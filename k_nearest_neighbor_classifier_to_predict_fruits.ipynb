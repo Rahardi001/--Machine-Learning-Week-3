{
  "nbformat": 4,
  "nbformat_minor": 0,
  "metadata": {
    "colab": {
      "name": "Untitled6.ipynb",
      "provenance": [],
      "authorship_tag": "ABX9TyNf1+GL0I8rYwIyDnmk3jKz",
      "include_colab_link": true
    },
    "kernelspec": {
      "name": "python3",
      "display_name": "Python 3"
    },
    "language_info": {
      "name": "python"
    }
  },
  "cells": [
    {
      "cell_type": "markdown",
      "metadata": {
        "id": "view-in-github",
        "colab_type": "text"
      },
      "source": [
        "<a href=\"https://colab.research.google.com/github/Rahardi001/--Machine-Learning-Week-3/blob/main/k_nearest_neighbor_classifier_to_predict_fruits.ipynb\" target=\"_parent\"><img src=\"https://colab.research.google.com/assets/colab-badge.svg\" alt=\"Open In Colab\"/></a>"
      ]
    },
    {
      "cell_type": "code",
      "metadata": {
        "id": "XKz4smrSkVvD"
      },
      "source": [
        "import numpy as np # linear algebra\n",
        "import pandas as pd # data processing, CSV file I/O (e.g. pd.read_csv)\n",
        "import matplotlib.pyplot as plt # for plotting and visualozing data"
      ],
      "execution_count": 1,
      "outputs": []
    },
    {
      "cell_type": "code",
      "metadata": {
        "id": "mmAQUjYKofyX"
      },
      "source": [
        "#our dataset\n",
        "fruits=pd.read_table('/content/fruit_data_with_colors.txt')"
      ],
      "execution_count": null,
      "outputs": []
    },
    {
      "cell_type": "code",
      "metadata": {
        "id": "K09_Gvbxol3d"
      },
      "source": [
        "#checking first five rows of our dataset\n",
        "fruits.head()"
      ],
      "execution_count": null,
      "outputs": []
    },
    {
      "cell_type": "code",
      "metadata": {
        "id": "NQ6TrioIosXm"
      },
      "source": [
        "#checking how many unique fruit names are present in the dataset\n",
        "fruits['fruit_name'].value_counts()"
      ],
      "execution_count": null,
      "outputs": []
    },
    {
      "cell_type": "code",
      "metadata": {
        "id": "qMmZbRwsoyan"
      },
      "source": [
        "apple_data=fruits[fruits['fruit_name']=='apple']\n",
        "orange_data=fruits[fruits['fruit_name']=='orange']\n",
        "lemon_data=fruits[fruits['fruit_name']=='lemon']\n",
        "mandarin_data=fruits[fruits['fruit_name']=='mandarin']"
      ],
      "execution_count": null,
      "outputs": []
    },
    {
      "cell_type": "code",
      "metadata": {
        "id": "wL5fLVcPo8DN"
      },
      "source": [
        "apple_data.head()"
      ],
      "execution_count": null,
      "outputs": []
    },
    {
      "cell_type": "code",
      "metadata": {
        "id": "opbGPTh2o_Sw"
      },
      "source": [
        "mandarin_data.head()"
      ],
      "execution_count": null,
      "outputs": []
    },
    {
      "cell_type": "code",
      "metadata": {
        "id": "KRyhQW8QpDZu"
      },
      "source": [
        "orange_data.head()"
      ],
      "execution_count": null,
      "outputs": []
    },
    {
      "cell_type": "code",
      "metadata": {
        "id": "_fAVErb2pEiG"
      },
      "source": [
        "lemon_data.head()"
      ],
      "execution_count": null,
      "outputs": []
    },
    {
      "cell_type": "code",
      "metadata": {
        "id": "jX9Lal79vBHp"
      },
      "source": [
        "plt.scatter(fruits['width'],fruits['height'])"
      ],
      "execution_count": null,
      "outputs": []
    },
    {
      "cell_type": "code",
      "metadata": {
        "id": "XOa0qOrwvEYf"
      },
      "source": [
        "\n",
        "plt.plot(fruits['height'],label='Height')\n",
        "plt.plot(fruits['width'],label='Width')\n",
        "plt.legend("
      ],
      "execution_count": null,
      "outputs": []
    },
    {
      "cell_type": "code",
      "metadata": {
        "id": "1jx-bpXmwB3v"
      },
      "source": [
        "from sklearn.model_selection import train_test_split\n",
        "from sklearn.neighbors import KNeighborsClassifier"
      ],
      "execution_count": null,
      "outputs": []
    },
    {
      "cell_type": "code",
      "metadata": {
        "id": "k6pjCzjHwEJu"
      },
      "source": [
        "X=fruits[['mass','width','height']]\n",
        "Y=fruits['fruit_label']\n",
        "X_train,X_test,y_train,y_test=train_test_split(X,Y,random_state=0)"
      ],
      "execution_count": null,
      "outputs": []
    },
    {
      "cell_type": "code",
      "metadata": {
        "id": "Et3GSaUywGfv"
      },
      "source": [
        "X_train.describe()"
      ],
      "execution_count": null,
      "outputs": []
    },
    {
      "cell_type": "code",
      "metadata": {
        "id": "LWPZB4bcwMg3"
      },
      "source": [
        "X_train.describe()"
      ],
      "execution_count": null,
      "outputs": []
    },
    {
      "cell_type": "code",
      "metadata": {
        "id": "W9Bz27DNwPsR"
      },
      "source": [
        "X_test.describe()"
      ],
      "execution_count": null,
      "outputs": []
    },
    {
      "cell_type": "code",
      "metadata": {
        "id": "gVpQxGY3wS-B"
      },
      "source": [
        "knn=KNeighborsClassifier()"
      ],
      "execution_count": null,
      "outputs": []
    },
    {
      "cell_type": "code",
      "metadata": {
        "id": "8XHb16QnxEhC"
      },
      "source": [
        "knn.fit(X_train,y_train)"
      ],
      "execution_count": null,
      "outputs": []
    },
    {
      "cell_type": "code",
      "metadata": {
        "id": "XESP4u7Kx_AD"
      },
      "source": [
        "knn.score(X_test,y_test)"
      ],
      "execution_count": null,
      "outputs": []
    },
    {
      "cell_type": "code",
      "metadata": {
        "id": "KjaV_ozUyEFA"
      },
      "source": [
        "#parameters of following function are mass,width and height\n",
        "#example1\n",
        "prediction1=knn.predict([['100','6.3','8']])\n",
        "predct[prediction1[0]]"
      ],
      "execution_count": null,
      "outputs": []
    },
    {
      "cell_type": "code",
      "metadata": {
        "id": "8HcWEvaWyG96"
      },
      "source": [
        "#example2\n",
        "prediction2=knn.predict([['300','7','10']])\n",
        "predct[prediction2[0]]"
      ],
      "execution_count": null,
      "outputs": []
    }
  ]
}